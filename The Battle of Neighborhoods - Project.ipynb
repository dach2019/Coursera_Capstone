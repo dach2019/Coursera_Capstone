{
 "cells": [
  {
   "cell_type": "markdown",
   "metadata": {
    "collapsed": true
   },
   "source": [
    "# The Battle of Neighborhoods"
   ]
  },
  {
   "cell_type": "code",
   "execution_count": 1,
   "metadata": {},
   "outputs": [
    {
     "name": "stdout",
     "output_type": "stream",
     "text": [
      "Solving environment: done\n",
      "\n",
      "# All requested packages already installed.\n",
      "\n",
      "Solving environment: done\n",
      "\n",
      "# All requested packages already installed.\n",
      "\n",
      "Libraries imported.\n"
     ]
    }
   ],
   "source": [
    "#Import libraries\n",
    "import numpy as np # library to handle data in a vectorized manner\n",
    "import pandas as pd # library for data analsysis\n",
    "import json # library to handle JSON files\n",
    "!conda install -c conda-forge geopy --yes # uncomment this line if you haven't completed the Foursquare API lab\n",
    "from geopy.geocoders import Nominatim # convert an address into latitude and longitude values\n",
    "import requests # library to handle requests\n",
    "from pandas.io.json import json_normalize # tranform JSON file into a pandas dataframe\n",
    "# Matplotlib and associated plotting modules\n",
    "import matplotlib.cm as cm\n",
    "import matplotlib.colors as colors\n",
    "# import k-means from clustering stage\n",
    "from sklearn.cluster import KMeans\n",
    "!conda install -c conda-forge folium=0.5.0 --yes # uncomment this line if you haven't completed the Foursquare API lab\n",
    "import folium # map rendering library\n",
    "\n",
    "print('Libraries imported.')"
   ]
  },
  {
   "cell_type": "markdown",
   "metadata": {},
   "source": [
    "# Extract and transform the data"
   ]
  },
  {
   "cell_type": "markdown",
   "metadata": {},
   "source": [
    "Extact localities information from Wikipedia"
   ]
  },
  {
   "cell_type": "code",
   "execution_count": 2,
   "metadata": {},
   "outputs": [],
   "source": [
    "import lxml.html as lh\n",
    "url='https://es.wikipedia.org/wiki/Anexo:Localidades_de_Bogot%C3%A1'\n",
    "#Create a handle, page, to handle the contents of the website\n",
    "page = requests.get(url)\n",
    "#Store the contents of the website under doc\n",
    "doc = lh.fromstring(page.content)\n",
    "#Parse data that are stored between <tr>..</tr> of HTML\n",
    "tr_elements = doc.xpath('//tr')"
   ]
  },
  {
   "cell_type": "markdown",
   "metadata": {},
   "source": [
    "Transform the extracted data"
   ]
  },
  {
   "cell_type": "code",
   "execution_count": 3,
   "metadata": {},
   "outputs": [],
   "source": [
    "#Create empty list\n",
    "col=[]\n",
    "i=0\n",
    "#For each row, store each first element (header) and an empty list\n",
    "for t in tr_elements[0]:\n",
    "    i+=1\n",
    "    name=t.text_content()\n",
    "    col.append((name,[]))"
   ]
  },
  {
   "cell_type": "code",
   "execution_count": 4,
   "metadata": {},
   "outputs": [],
   "source": [
    "for j in range(1,len(tr_elements)):\n",
    "    #T is our j'th row\n",
    "    T=tr_elements[j]\n",
    "    #i is the index of our column\n",
    "    i=0\n",
    "    #Iterate through each element of the row\n",
    "    for t in T.iterchildren():\n",
    "        if i<6:\n",
    "            data=t.text_content()\n",
    "            data=data[:-1]\n",
    "            if i==4 or i==5:\n",
    "                data=data.replace(u'\\xa0',u'')\n",
    "                data=data.replace(' ','')\n",
    "            #Append the data to the empty list of the i'th column\n",
    "            col[i][1].append(data)\n",
    "            #Increment i for the next column\n",
    "            i+=1"
   ]
  },
  {
   "cell_type": "markdown",
   "metadata": {},
   "source": [
    "Convert into DataFrame"
   ]
  },
  {
   "cell_type": "code",
   "execution_count": 5,
   "metadata": {},
   "outputs": [
    {
     "data": {
      "text/html": [
       "<div>\n",
       "<style scoped>\n",
       "    .dataframe tbody tr th:only-of-type {\n",
       "        vertical-align: middle;\n",
       "    }\n",
       "\n",
       "    .dataframe tbody tr th {\n",
       "        vertical-align: top;\n",
       "    }\n",
       "\n",
       "    .dataframe thead th {\n",
       "        text-align: right;\n",
       "    }\n",
       "</style>\n",
       "<table border=\"1\" class=\"dataframe\">\n",
       "  <thead>\n",
       "    <tr style=\"text-align: right;\">\n",
       "      <th></th>\n",
       "      <th>Number</th>\n",
       "      <th>Locality</th>\n",
       "      <th>Postcode</th>\n",
       "      <th>Surface</th>\n",
       "      <th>Population</th>\n",
       "      <th>Density</th>\n",
       "    </tr>\n",
       "  </thead>\n",
       "  <tbody>\n",
       "    <tr>\n",
       "      <th>0</th>\n",
       "      <td>1</td>\n",
       "      <td>Usaquén</td>\n",
       "      <td>110111-110151</td>\n",
       "      <td>65.31</td>\n",
       "      <td>501999</td>\n",
       "      <td>7686.40</td>\n",
       "    </tr>\n",
       "    <tr>\n",
       "      <th>1</th>\n",
       "      <td>2</td>\n",
       "      <td>Chapinero</td>\n",
       "      <td>110211-110231</td>\n",
       "      <td>38.15</td>\n",
       "      <td>139701</td>\n",
       "      <td>3661.88</td>\n",
       "    </tr>\n",
       "    <tr>\n",
       "      <th>2</th>\n",
       "      <td>3</td>\n",
       "      <td>Santa Fe</td>\n",
       "      <td>110311-110321</td>\n",
       "      <td>45.17</td>\n",
       "      <td>110048</td>\n",
       "      <td>2436.30</td>\n",
       "    </tr>\n",
       "    <tr>\n",
       "      <th>3</th>\n",
       "      <td>4</td>\n",
       "      <td>San Cristóbal</td>\n",
       "      <td>110411-110441</td>\n",
       "      <td>49.09</td>\n",
       "      <td>404697</td>\n",
       "      <td>8243.98</td>\n",
       "    </tr>\n",
       "    <tr>\n",
       "      <th>4</th>\n",
       "      <td>5</td>\n",
       "      <td>Usme</td>\n",
       "      <td>110511-110571</td>\n",
       "      <td>215.06</td>\n",
       "      <td>457302</td>\n",
       "      <td>2126.39</td>\n",
       "    </tr>\n",
       "    <tr>\n",
       "      <th>5</th>\n",
       "      <td>6</td>\n",
       "      <td>Tunjuelito</td>\n",
       "      <td>110611-110621</td>\n",
       "      <td>9.91</td>\n",
       "      <td>199430</td>\n",
       "      <td>20124.11</td>\n",
       "    </tr>\n",
       "    <tr>\n",
       "      <th>6</th>\n",
       "      <td>7</td>\n",
       "      <td>Bosa</td>\n",
       "      <td>110711-110741</td>\n",
       "      <td>23.93</td>\n",
       "      <td>673077</td>\n",
       "      <td>28126.91</td>\n",
       "    </tr>\n",
       "    <tr>\n",
       "      <th>7</th>\n",
       "      <td>8</td>\n",
       "      <td>Kennedy</td>\n",
       "      <td>110811-110881</td>\n",
       "      <td>38.59</td>\n",
       "      <td>1088443</td>\n",
       "      <td>28205.31</td>\n",
       "    </tr>\n",
       "    <tr>\n",
       "      <th>8</th>\n",
       "      <td>9</td>\n",
       "      <td>Fontibón</td>\n",
       "      <td>110911-110931</td>\n",
       "      <td>33.28</td>\n",
       "      <td>394648</td>\n",
       "      <td>11858.41</td>\n",
       "    </tr>\n",
       "    <tr>\n",
       "      <th>9</th>\n",
       "      <td>10</td>\n",
       "      <td>Engativá</td>\n",
       "      <td>111011-111071</td>\n",
       "      <td>35.88</td>\n",
       "      <td>887080</td>\n",
       "      <td>24723.52</td>\n",
       "    </tr>\n",
       "    <tr>\n",
       "      <th>10</th>\n",
       "      <td>11</td>\n",
       "      <td>Suba</td>\n",
       "      <td>111111-111176</td>\n",
       "      <td>100.56</td>\n",
       "      <td>1218513</td>\n",
       "      <td>12117.27</td>\n",
       "    </tr>\n",
       "    <tr>\n",
       "      <th>11</th>\n",
       "      <td>12</td>\n",
       "      <td>Barrios Unidos</td>\n",
       "      <td>111211-111221</td>\n",
       "      <td>11.90</td>\n",
       "      <td>243465</td>\n",
       "      <td>20459.24</td>\n",
       "    </tr>\n",
       "    <tr>\n",
       "      <th>12</th>\n",
       "      <td>13</td>\n",
       "      <td>Teusaquillo</td>\n",
       "      <td>111311-111321</td>\n",
       "      <td>14.19</td>\n",
       "      <td>153025</td>\n",
       "      <td>10784.00</td>\n",
       "    </tr>\n",
       "    <tr>\n",
       "      <th>13</th>\n",
       "      <td>14</td>\n",
       "      <td>Los Mártires</td>\n",
       "      <td>111411</td>\n",
       "      <td>6.51</td>\n",
       "      <td>99119</td>\n",
       "      <td>15225.65</td>\n",
       "    </tr>\n",
       "    <tr>\n",
       "      <th>14</th>\n",
       "      <td>15</td>\n",
       "      <td>Antonio Nariño</td>\n",
       "      <td>111511</td>\n",
       "      <td>4.88</td>\n",
       "      <td>109176</td>\n",
       "      <td>22372.12</td>\n",
       "    </tr>\n",
       "    <tr>\n",
       "      <th>15</th>\n",
       "      <td>16</td>\n",
       "      <td>Puente Aranda</td>\n",
       "      <td>111611-111631</td>\n",
       "      <td>17.31</td>\n",
       "      <td>258287</td>\n",
       "      <td>14921.25</td>\n",
       "    </tr>\n",
       "    <tr>\n",
       "      <th>16</th>\n",
       "      <td>17</td>\n",
       "      <td>La Candelaria</td>\n",
       "      <td>111711</td>\n",
       "      <td>2.06</td>\n",
       "      <td>24088</td>\n",
       "      <td>11693.20</td>\n",
       "    </tr>\n",
       "    <tr>\n",
       "      <th>17</th>\n",
       "      <td>18</td>\n",
       "      <td>Rafael Uribe Uribe</td>\n",
       "      <td>111811-111841</td>\n",
       "      <td>13.83</td>\n",
       "      <td>374246</td>\n",
       "      <td>27060.44</td>\n",
       "    </tr>\n",
       "    <tr>\n",
       "      <th>18</th>\n",
       "      <td>19</td>\n",
       "      <td>Ciudad Bolívar</td>\n",
       "      <td>111911-111981</td>\n",
       "      <td>130.00</td>\n",
       "      <td>707569</td>\n",
       "      <td>5442.83</td>\n",
       "    </tr>\n",
       "    <tr>\n",
       "      <th>19</th>\n",
       "      <td>20</td>\n",
       "      <td>Sumapaz</td>\n",
       "      <td>112011-112041</td>\n",
       "      <td>780.96</td>\n",
       "      <td>6531</td>\n",
       "      <td>8.36</td>\n",
       "    </tr>\n",
       "  </tbody>\n",
       "</table>\n",
       "</div>"
      ],
      "text/plain": [
       "    Number            Locality       Postcode  Surface  Population   Density\n",
       "0        1             Usaquén  110111-110151    65.31      501999   7686.40\n",
       "1        2           Chapinero  110211-110231    38.15      139701   3661.88\n",
       "2        3            Santa Fe  110311-110321    45.17      110048   2436.30\n",
       "3        4       San Cristóbal  110411-110441    49.09      404697   8243.98\n",
       "4        5                Usme  110511-110571   215.06      457302   2126.39\n",
       "5        6          Tunjuelito  110611-110621     9.91      199430  20124.11\n",
       "6        7                Bosa  110711-110741    23.93      673077  28126.91\n",
       "7        8             Kennedy  110811-110881    38.59     1088443  28205.31\n",
       "8        9            Fontibón  110911-110931    33.28      394648  11858.41\n",
       "9       10            Engativá  111011-111071    35.88      887080  24723.52\n",
       "10      11                Suba  111111-111176   100.56     1218513  12117.27\n",
       "11      12      Barrios Unidos  111211-111221    11.90      243465  20459.24\n",
       "12      13         Teusaquillo  111311-111321    14.19      153025  10784.00\n",
       "13      14        Los Mártires         111411     6.51       99119  15225.65\n",
       "14      15      Antonio Nariño         111511     4.88      109176  22372.12\n",
       "15      16       Puente Aranda  111611-111631    17.31      258287  14921.25\n",
       "16      17       La Candelaria         111711     2.06       24088  11693.20\n",
       "17      18  Rafael Uribe Uribe  111811-111841    13.83      374246  27060.44\n",
       "18      19      Ciudad Bolívar  111911-111981   130.00      707569   5442.83\n",
       "19      20             Sumapaz  112011-112041   780.96        6531      8.36"
      ]
     },
     "execution_count": 5,
     "metadata": {},
     "output_type": "execute_result"
    }
   ],
   "source": [
    "Dict={title:column for (title,column) in col}\n",
    "df_localities=pd.DataFrame(Dict)\n",
    "df_localities.columns=['Number','Locality','Postcode','Surface','Population','Density']\n",
    "df_localities['Surface']=df_localities['Surface'].astype('float')\n",
    "df_localities['Density']=df_localities['Density'].astype('float')\n",
    "df_localities['Number']=df_localities['Number'].astype('int32')\n",
    "df_localities['Population']=df_localities['Population'].astype('int32')\n",
    "df_localities"
   ]
  },
  {
   "cell_type": "markdown",
   "metadata": {},
   "source": [
    "Search geographical coordinate of Bogotá, Colombia"
   ]
  },
  {
   "cell_type": "code",
   "execution_count": 6,
   "metadata": {},
   "outputs": [
    {
     "name": "stdout",
     "output_type": "stream",
     "text": [
      "The geograpical coordinate of Bogotá are 4.59808, -74.0760439.\n"
     ]
    }
   ],
   "source": [
    "address = 'Bogotá, Colombia'\n",
    "\n",
    "geolocator = Nominatim(user_agent=\"bo_explorer\")\n",
    "location = geolocator.geocode(address)\n",
    "latitude = location.latitude\n",
    "longitude = location.longitude\n",
    "print('The geograpical coordinate of Bogotá are {}, {}.'.format(latitude, longitude))"
   ]
  },
  {
   "cell_type": "markdown",
   "metadata": {},
   "source": [
    "Create DataFrame for localities geographical cordinate"
   ]
  },
  {
   "cell_type": "code",
   "execution_count": 7,
   "metadata": {},
   "outputs": [],
   "source": [
    "col_names=['Locality','Latitude','Longitude']\n",
    "df_coord=pd.DataFrame(columns=col_names)"
   ]
  },
  {
   "cell_type": "code",
   "execution_count": 8,
   "metadata": {},
   "outputs": [
    {
     "data": {
      "text/html": [
       "<div>\n",
       "<style scoped>\n",
       "    .dataframe tbody tr th:only-of-type {\n",
       "        vertical-align: middle;\n",
       "    }\n",
       "\n",
       "    .dataframe tbody tr th {\n",
       "        vertical-align: top;\n",
       "    }\n",
       "\n",
       "    .dataframe thead th {\n",
       "        text-align: right;\n",
       "    }\n",
       "</style>\n",
       "<table border=\"1\" class=\"dataframe\">\n",
       "  <thead>\n",
       "    <tr style=\"text-align: right;\">\n",
       "      <th></th>\n",
       "      <th>Locality</th>\n",
       "      <th>Latitude</th>\n",
       "      <th>Longitude</th>\n",
       "    </tr>\n",
       "  </thead>\n",
       "  <tbody>\n",
       "    <tr>\n",
       "      <th>0</th>\n",
       "      <td>Usaquén</td>\n",
       "      <td>4.694969</td>\n",
       "      <td>-74.031093</td>\n",
       "    </tr>\n",
       "    <tr>\n",
       "      <th>1</th>\n",
       "      <td>Chapinero</td>\n",
       "      <td>4.645377</td>\n",
       "      <td>-74.061943</td>\n",
       "    </tr>\n",
       "    <tr>\n",
       "      <th>2</th>\n",
       "      <td>Santa Fe</td>\n",
       "      <td>4.602204</td>\n",
       "      <td>-74.078837</td>\n",
       "    </tr>\n",
       "    <tr>\n",
       "      <th>3</th>\n",
       "      <td>San Cristóbal</td>\n",
       "      <td>4.548658</td>\n",
       "      <td>-74.047473</td>\n",
       "    </tr>\n",
       "    <tr>\n",
       "      <th>4</th>\n",
       "      <td>Usme</td>\n",
       "      <td>4.508155</td>\n",
       "      <td>-74.114328</td>\n",
       "    </tr>\n",
       "    <tr>\n",
       "      <th>5</th>\n",
       "      <td>Tunjuelito</td>\n",
       "      <td>4.561049</td>\n",
       "      <td>-74.127523</td>\n",
       "    </tr>\n",
       "    <tr>\n",
       "      <th>6</th>\n",
       "      <td>Bosa</td>\n",
       "      <td>4.625492</td>\n",
       "      <td>-74.200280</td>\n",
       "    </tr>\n",
       "    <tr>\n",
       "      <th>7</th>\n",
       "      <td>Kennedy</td>\n",
       "      <td>4.629682</td>\n",
       "      <td>-74.149935</td>\n",
       "    </tr>\n",
       "    <tr>\n",
       "      <th>8</th>\n",
       "      <td>Fontibón</td>\n",
       "      <td>4.673327</td>\n",
       "      <td>-74.144732</td>\n",
       "    </tr>\n",
       "    <tr>\n",
       "      <th>9</th>\n",
       "      <td>Engativá</td>\n",
       "      <td>4.708695</td>\n",
       "      <td>-74.109643</td>\n",
       "    </tr>\n",
       "    <tr>\n",
       "      <th>10</th>\n",
       "      <td>Suba</td>\n",
       "      <td>4.761197</td>\n",
       "      <td>-74.082518</td>\n",
       "    </tr>\n",
       "    <tr>\n",
       "      <th>11</th>\n",
       "      <td>Barrios Unidos</td>\n",
       "      <td>4.669679</td>\n",
       "      <td>-74.075483</td>\n",
       "    </tr>\n",
       "    <tr>\n",
       "      <th>12</th>\n",
       "      <td>Teusaquillo</td>\n",
       "      <td>4.646410</td>\n",
       "      <td>-74.085441</td>\n",
       "    </tr>\n",
       "    <tr>\n",
       "      <th>13</th>\n",
       "      <td>Los Mártires</td>\n",
       "      <td>4.608375</td>\n",
       "      <td>-74.086538</td>\n",
       "    </tr>\n",
       "    <tr>\n",
       "      <th>14</th>\n",
       "      <td>Antonio Nariño</td>\n",
       "      <td>4.587446</td>\n",
       "      <td>-74.096839</td>\n",
       "    </tr>\n",
       "    <tr>\n",
       "      <th>15</th>\n",
       "      <td>Puente Aranda</td>\n",
       "      <td>4.616071</td>\n",
       "      <td>-74.105433</td>\n",
       "    </tr>\n",
       "    <tr>\n",
       "      <th>16</th>\n",
       "      <td>La Candelaria</td>\n",
       "      <td>4.596515</td>\n",
       "      <td>-74.073492</td>\n",
       "    </tr>\n",
       "    <tr>\n",
       "      <th>17</th>\n",
       "      <td>Rafael Uribe Uribe</td>\n",
       "      <td>4.573319</td>\n",
       "      <td>-74.119473</td>\n",
       "    </tr>\n",
       "    <tr>\n",
       "      <th>18</th>\n",
       "      <td>Ciudad Bolívar</td>\n",
       "      <td>4.545440</td>\n",
       "      <td>-74.154000</td>\n",
       "    </tr>\n",
       "    <tr>\n",
       "      <th>19</th>\n",
       "      <td>Sumapaz</td>\n",
       "      <td>4.207937</td>\n",
       "      <td>-74.655900</td>\n",
       "    </tr>\n",
       "  </tbody>\n",
       "</table>\n",
       "</div>"
      ],
      "text/plain": [
       "              Locality  Latitude  Longitude\n",
       "0              Usaquén  4.694969 -74.031093\n",
       "1            Chapinero  4.645377 -74.061943\n",
       "2             Santa Fe  4.602204 -74.078837\n",
       "3        San Cristóbal  4.548658 -74.047473\n",
       "4                 Usme  4.508155 -74.114328\n",
       "5           Tunjuelito  4.561049 -74.127523\n",
       "6                 Bosa  4.625492 -74.200280\n",
       "7              Kennedy  4.629682 -74.149935\n",
       "8             Fontibón  4.673327 -74.144732\n",
       "9             Engativá  4.708695 -74.109643\n",
       "10                Suba  4.761197 -74.082518\n",
       "11      Barrios Unidos  4.669679 -74.075483\n",
       "12         Teusaquillo  4.646410 -74.085441\n",
       "13        Los Mártires  4.608375 -74.086538\n",
       "14      Antonio Nariño  4.587446 -74.096839\n",
       "15       Puente Aranda  4.616071 -74.105433\n",
       "16       La Candelaria  4.596515 -74.073492\n",
       "17  Rafael Uribe Uribe  4.573319 -74.119473\n",
       "18      Ciudad Bolívar  4.545440 -74.154000\n",
       "19             Sumapaz  4.207937 -74.655900"
      ]
     },
     "execution_count": 8,
     "metadata": {},
     "output_type": "execute_result"
    }
   ],
   "source": [
    "for i in range(0,len(df_localities)):\n",
    "    locality = df_localities.iloc[i,1]+', Bogotá'\n",
    "    geolocator = Nominatim(user_agent=\"bo_explorer\")\n",
    "    location = geolocator.geocode(locality)\n",
    "    lat = location.latitude\n",
    "    lng = location.longitude\n",
    "    df_coord=df_coord.append({'Locality':df_localities.iloc[i,1],\n",
    "                              'Latitude':lat,\n",
    "                              'Longitude':lng}, ignore_index=True)\n",
    "df_coord"
   ]
  },
  {
   "cell_type": "markdown",
   "metadata": {},
   "source": [
    "Create map with localities data"
   ]
  },
  {
   "cell_type": "code",
   "execution_count": 9,
   "metadata": {
    "scrolled": false
   },
   "outputs": [
    {
     "data": {
      "text/html": [
       "<div style=\"width:100%;\"><div style=\"position:relative;width:100%;height:0;padding-bottom:60%;\"><iframe src=\"data:text/html;charset=utf-8;base64,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\" style=\"position:absolute;width:100%;height:100%;left:0;top:0;border:none !important;\" allowfullscreen webkitallowfullscreen mozallowfullscreen></iframe></div></div>"
      ],
      "text/plain": [
       "<folium.folium.Map at 0x7fb20c17d908>"
      ]
     },
     "execution_count": 9,
     "metadata": {},
     "output_type": "execute_result"
    }
   ],
   "source": [
    "# create map of Bogotá using latitude and longitude values\n",
    "map_bogota = folium.Map(location=[latitude, longitude], zoom_start=10)\n",
    "\n",
    "# add markers to map\n",
    "for  locality,lat, lng in zip( df_coord['Locality'],df_coord['Latitude'], df_coord['Longitude'],):\n",
    "    label = locality\n",
    "    label = folium.Popup(label, parse_html=True)\n",
    "    folium.CircleMarker(\n",
    "        [lat, lng],\n",
    "        radius=5,\n",
    "        popup=label,\n",
    "        color='blue',\n",
    "        fill=True,\n",
    "        fill_color='#3186cc',\n",
    "        fill_opacity=0.7,\n",
    "        parse_html=False).add_to(map_bogota)  \n",
    "    \n",
    "map_bogota"
   ]
  },
  {
   "cell_type": "markdown",
   "metadata": {},
   "source": [
    "Api Foursquare information"
   ]
  },
  {
   "cell_type": "code",
   "execution_count": 10,
   "metadata": {},
   "outputs": [
    {
     "name": "stdout",
     "output_type": "stream",
     "text": [
      "My credentails:\n",
      "CLIENT_ID: TM2K1HBQXOSQXGYJGEBLJE015NBIQWL4BI45VH2KW1KBZQBX\n",
      "CLIENT_SECRET:TDHZMKLFZJ2DCL21WMOW4PVMHT2Z1UODUCVVVNKOP5P0QW5B\n"
     ]
    }
   ],
   "source": [
    "CLIENT_ID = 'TM2K1HBQXOSQXGYJGEBLJE015NBIQWL4BI45VH2KW1KBZQBX' # my Foursquare ID\n",
    "CLIENT_SECRET = 'TDHZMKLFZJ2DCL21WMOW4PVMHT2Z1UODUCVVVNKOP5P0QW5B' # my Foursquare Secret\n",
    "VERSION = '20180605' # Foursquare API version\n",
    "\n",
    "print('My credentails:')\n",
    "print('CLIENT_ID: ' + CLIENT_ID)\n",
    "print('CLIENT_SECRET:' + CLIENT_SECRET)"
   ]
  },
  {
   "cell_type": "markdown",
   "metadata": {},
   "source": [
    "Search all the supermarkets present in each locality for each of the networks"
   ]
  },
  {
   "cell_type": "code",
   "execution_count": 11,
   "metadata": {},
   "outputs": [],
   "source": [
    "import math\n",
    "col_names=['Locality','D1','Ara','Oxxo','Exito']\n",
    "df_counts=pd.DataFrame(columns=col_names)\n",
    "s_networks=['D1','Ara','Oxxo','Exito']\n",
    "categories='Market,Supermarket,Grocery Store,Departament Store,Flea Market,Big Box Store,Shop & Service,Gourmet Shop,Miscellaneous Shop,Convenience Store'\n",
    "\n",
    "for j in range(0,len(s_networks)):\n",
    "    network=s_networks[j]\n",
    "    for i in range(0,len(df_localities)):\n",
    "        lat=df_coord.iloc[i,1]\n",
    "        lng=df_coord.iloc[i,2]\n",
    "        area=df_localities.iloc[i,3]\n",
    "        radius = math.sqrt(area/math.pi)*1000\n",
    "        \n",
    "        # create URL\n",
    "        url = 'https://api.foursquare.com/v2/venues/search?&client_id={}&client_secret={}&v={}&ll={},{}&radius={}&query={}'.format(\n",
    "        CLIENT_ID, \n",
    "        CLIENT_SECRET, \n",
    "        VERSION, \n",
    "        lat, \n",
    "        lng, \n",
    "        radius,\n",
    "        network)\n",
    "\n",
    "        results = requests.get(url).json()\n",
    "        no_results=len(results['response']['venues'])\n",
    "        if no_results>0:\n",
    "            no_supermarkets=0\n",
    "            for k in range(0,no_results):\n",
    "                reg=len(results['response']['venues'][k]['categories'])\n",
    "                if reg>0:\n",
    "                    category=results['response']['venues'][k]['categories'][0]['name']\n",
    "                    if categories.find(category)>-1:\n",
    "                        no_supermarkets=no_supermarkets+1\n",
    "                        \n",
    "        if j==0:\n",
    "            df_counts=df_counts.append({s_networks[j]:no_supermarkets,'Locality':df_localities.iloc[i,1]},ignore_index=True)\n",
    "        else:\n",
    "            df_counts.iloc[i,j+1]=no_supermarkets\n",
    "            "
   ]
  },
  {
   "cell_type": "code",
   "execution_count": 12,
   "metadata": {},
   "outputs": [
    {
     "data": {
      "text/html": [
       "<div>\n",
       "<style scoped>\n",
       "    .dataframe tbody tr th:only-of-type {\n",
       "        vertical-align: middle;\n",
       "    }\n",
       "\n",
       "    .dataframe tbody tr th {\n",
       "        vertical-align: top;\n",
       "    }\n",
       "\n",
       "    .dataframe thead th {\n",
       "        text-align: right;\n",
       "    }\n",
       "</style>\n",
       "<table border=\"1\" class=\"dataframe\">\n",
       "  <thead>\n",
       "    <tr style=\"text-align: right;\">\n",
       "      <th></th>\n",
       "      <th>Locality</th>\n",
       "      <th>D1</th>\n",
       "      <th>Ara</th>\n",
       "      <th>Oxxo</th>\n",
       "      <th>Exito</th>\n",
       "    </tr>\n",
       "  </thead>\n",
       "  <tbody>\n",
       "    <tr>\n",
       "      <th>0</th>\n",
       "      <td>Usaquén</td>\n",
       "      <td>29</td>\n",
       "      <td>12</td>\n",
       "      <td>16</td>\n",
       "      <td>22</td>\n",
       "    </tr>\n",
       "    <tr>\n",
       "      <th>1</th>\n",
       "      <td>Chapinero</td>\n",
       "      <td>20</td>\n",
       "      <td>10</td>\n",
       "      <td>20</td>\n",
       "      <td>15</td>\n",
       "    </tr>\n",
       "    <tr>\n",
       "      <th>2</th>\n",
       "      <td>Santa Fe</td>\n",
       "      <td>2</td>\n",
       "      <td>7</td>\n",
       "      <td>11</td>\n",
       "      <td>23</td>\n",
       "    </tr>\n",
       "    <tr>\n",
       "      <th>3</th>\n",
       "      <td>San Cristóbal</td>\n",
       "      <td>0</td>\n",
       "      <td>7</td>\n",
       "      <td>11</td>\n",
       "      <td>23</td>\n",
       "    </tr>\n",
       "    <tr>\n",
       "      <th>4</th>\n",
       "      <td>Usme</td>\n",
       "      <td>5</td>\n",
       "      <td>4</td>\n",
       "      <td>1</td>\n",
       "      <td>7</td>\n",
       "    </tr>\n",
       "    <tr>\n",
       "      <th>5</th>\n",
       "      <td>Tunjuelito</td>\n",
       "      <td>3</td>\n",
       "      <td>2</td>\n",
       "      <td>1</td>\n",
       "      <td>1</td>\n",
       "    </tr>\n",
       "    <tr>\n",
       "      <th>6</th>\n",
       "      <td>Bosa</td>\n",
       "      <td>1</td>\n",
       "      <td>0</td>\n",
       "      <td>1</td>\n",
       "      <td>1</td>\n",
       "    </tr>\n",
       "    <tr>\n",
       "      <th>7</th>\n",
       "      <td>Kennedy</td>\n",
       "      <td>3</td>\n",
       "      <td>0</td>\n",
       "      <td>2</td>\n",
       "      <td>8</td>\n",
       "    </tr>\n",
       "    <tr>\n",
       "      <th>8</th>\n",
       "      <td>Fontibón</td>\n",
       "      <td>3</td>\n",
       "      <td>4</td>\n",
       "      <td>1</td>\n",
       "      <td>6</td>\n",
       "    </tr>\n",
       "    <tr>\n",
       "      <th>9</th>\n",
       "      <td>Engativá</td>\n",
       "      <td>7</td>\n",
       "      <td>4</td>\n",
       "      <td>2</td>\n",
       "      <td>7</td>\n",
       "    </tr>\n",
       "    <tr>\n",
       "      <th>10</th>\n",
       "      <td>Suba</td>\n",
       "      <td>24</td>\n",
       "      <td>5</td>\n",
       "      <td>6</td>\n",
       "      <td>9</td>\n",
       "    </tr>\n",
       "    <tr>\n",
       "      <th>11</th>\n",
       "      <td>Barrios Unidos</td>\n",
       "      <td>10</td>\n",
       "      <td>4</td>\n",
       "      <td>8</td>\n",
       "      <td>12</td>\n",
       "    </tr>\n",
       "    <tr>\n",
       "      <th>12</th>\n",
       "      <td>Teusaquillo</td>\n",
       "      <td>8</td>\n",
       "      <td>0</td>\n",
       "      <td>2</td>\n",
       "      <td>12</td>\n",
       "    </tr>\n",
       "    <tr>\n",
       "      <th>13</th>\n",
       "      <td>Los Mártires</td>\n",
       "      <td>1</td>\n",
       "      <td>0</td>\n",
       "      <td>1</td>\n",
       "      <td>3</td>\n",
       "    </tr>\n",
       "    <tr>\n",
       "      <th>14</th>\n",
       "      <td>Antonio Nariño</td>\n",
       "      <td>4</td>\n",
       "      <td>1</td>\n",
       "      <td>1</td>\n",
       "      <td>1</td>\n",
       "    </tr>\n",
       "    <tr>\n",
       "      <th>15</th>\n",
       "      <td>Puente Aranda</td>\n",
       "      <td>3</td>\n",
       "      <td>2</td>\n",
       "      <td>1</td>\n",
       "      <td>6</td>\n",
       "    </tr>\n",
       "    <tr>\n",
       "      <th>16</th>\n",
       "      <td>La Candelaria</td>\n",
       "      <td>1</td>\n",
       "      <td>0</td>\n",
       "      <td>6</td>\n",
       "      <td>4</td>\n",
       "    </tr>\n",
       "    <tr>\n",
       "      <th>17</th>\n",
       "      <td>Rafael Uribe Uribe</td>\n",
       "      <td>3</td>\n",
       "      <td>2</td>\n",
       "      <td>1</td>\n",
       "      <td>4</td>\n",
       "    </tr>\n",
       "    <tr>\n",
       "      <th>18</th>\n",
       "      <td>Ciudad Bolívar</td>\n",
       "      <td>7</td>\n",
       "      <td>4</td>\n",
       "      <td>2</td>\n",
       "      <td>13</td>\n",
       "    </tr>\n",
       "    <tr>\n",
       "      <th>19</th>\n",
       "      <td>Sumapaz</td>\n",
       "      <td>1</td>\n",
       "      <td>0</td>\n",
       "      <td>2</td>\n",
       "      <td>1</td>\n",
       "    </tr>\n",
       "  </tbody>\n",
       "</table>\n",
       "</div>"
      ],
      "text/plain": [
       "              Locality  D1 Ara Oxxo Exito\n",
       "0              Usaquén  29  12   16    22\n",
       "1            Chapinero  20  10   20    15\n",
       "2             Santa Fe   2   7   11    23\n",
       "3        San Cristóbal   0   7   11    23\n",
       "4                 Usme   5   4    1     7\n",
       "5           Tunjuelito   3   2    1     1\n",
       "6                 Bosa   1   0    1     1\n",
       "7              Kennedy   3   0    2     8\n",
       "8             Fontibón   3   4    1     6\n",
       "9             Engativá   7   4    2     7\n",
       "10                Suba  24   5    6     9\n",
       "11      Barrios Unidos  10   4    8    12\n",
       "12         Teusaquillo   8   0    2    12\n",
       "13        Los Mártires   1   0    1     3\n",
       "14      Antonio Nariño   4   1    1     1\n",
       "15       Puente Aranda   3   2    1     6\n",
       "16       La Candelaria   1   0    6     4\n",
       "17  Rafael Uribe Uribe   3   2    1     4\n",
       "18      Ciudad Bolívar   7   4    2    13\n",
       "19             Sumapaz   1   0    2     1"
      ]
     },
     "execution_count": 12,
     "metadata": {},
     "output_type": "execute_result"
    }
   ],
   "source": [
    "df_counts"
   ]
  },
  {
   "cell_type": "markdown",
   "metadata": {},
   "source": [
    "Example: \n",
    "In the locality of \"Puente Aranda\" there are \"6\" supermarkets of the \"Exito\" network"
   ]
  },
  {
   "cell_type": "markdown",
   "metadata": {},
   "source": [
    "# Clustering Model"
   ]
  },
  {
   "cell_type": "markdown",
   "metadata": {},
   "source": [
    "Run k-means to cluster the Localities into 7 clusters acording to supermarkets number present in each locality"
   ]
  },
  {
   "cell_type": "code",
   "execution_count": 13,
   "metadata": {},
   "outputs": [
    {
     "data": {
      "text/plain": [
       "array([6, 2, 3, 3, 5, 1, 1, 5, 5, 5], dtype=int32)"
      ]
     },
     "execution_count": 13,
     "metadata": {},
     "output_type": "execute_result"
    }
   ],
   "source": [
    "# set number of clusters\n",
    "kclusters = 7\n",
    "\n",
    "df_data = df_counts.drop('Locality', 1)\n",
    "\n",
    "# run k-means clustering\n",
    "kmeans = KMeans(n_clusters=kclusters, random_state=0).fit(df_data)\n",
    "\n",
    "# check cluster labels generated for each row in the dataframe\n",
    "kmeans.labels_[0:10] "
   ]
  },
  {
   "cell_type": "code",
   "execution_count": 14,
   "metadata": {},
   "outputs": [],
   "source": [
    "df_counts.insert(5, 'Cluster Labels', kmeans.labels_)"
   ]
  },
  {
   "cell_type": "markdown",
   "metadata": {},
   "source": [
    "Create the map with clusters obtained"
   ]
  },
  {
   "cell_type": "code",
   "execution_count": 15,
   "metadata": {
    "scrolled": true
   },
   "outputs": [
    {
     "data": {
      "text/html": [
       "<div style=\"width:100%;\"><div style=\"position:relative;width:100%;height:0;padding-bottom:60%;\"><iframe src=\"data:text/html;charset=utf-8;base64,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\" style=\"position:absolute;width:100%;height:100%;left:0;top:0;border:none !important;\" allowfullscreen webkitallowfullscreen mozallowfullscreen></iframe></div></div>"
      ],
      "text/plain": [
       "<folium.folium.Map at 0x7fb20c0b0240>"
      ]
     },
     "execution_count": 15,
     "metadata": {},
     "output_type": "execute_result"
    }
   ],
   "source": [
    "# create map\n",
    "map_clusters = folium.Map(location=[latitude, longitude], zoom_start=11)\n",
    "\n",
    "# set color scheme for the clusters\n",
    "x = np.arange(kclusters)\n",
    "ys = [i + x + (i*x)**2 for i in range(kclusters)]\n",
    "colors_array = cm.rainbow(np.linspace(0, 1, len(ys)))\n",
    "rainbow = [colors.rgb2hex(i) for i in colors_array]\n",
    "\n",
    "# add markers to the map\n",
    "markers_colors = []\n",
    "for lat, lon, poi, cluster in zip(df_coord['Latitude'],df_coord['Longitude'], df_counts['Locality'], df_counts['Cluster Labels']):\n",
    "    label = folium.Popup(str(poi) + ' Cluster ' + str(cluster), parse_html=True)\n",
    "    folium.CircleMarker(\n",
    "        [lat, lon],\n",
    "        radius=5,\n",
    "        popup=label,\n",
    "        color=rainbow[cluster-1],\n",
    "        fill=True,\n",
    "        fill_color=rainbow[cluster-1],\n",
    "        fill_opacity=0.7).add_to(map_clusters)\n",
    "       \n",
    "map_clusters\n"
   ]
  },
  {
   "cell_type": "markdown",
   "metadata": {},
   "source": [
    "# Cluster Analysis"
   ]
  },
  {
   "cell_type": "markdown",
   "metadata": {},
   "source": [
    "Create a DataFrame with the supermarkets sum by each cluster"
   ]
  },
  {
   "cell_type": "code",
   "execution_count": 16,
   "metadata": {},
   "outputs": [],
   "source": [
    "col_names=['Cluster Labels','D1','Ara','Oxxo','Exito']\n",
    "df_sum=pd.DataFrame(columns=col_names)"
   ]
  },
  {
   "cell_type": "code",
   "execution_count": 17,
   "metadata": {},
   "outputs": [
    {
     "data": {
      "text/html": [
       "<div>\n",
       "<style scoped>\n",
       "    .dataframe tbody tr th:only-of-type {\n",
       "        vertical-align: middle;\n",
       "    }\n",
       "\n",
       "    .dataframe tbody tr th {\n",
       "        vertical-align: top;\n",
       "    }\n",
       "\n",
       "    .dataframe thead th {\n",
       "        text-align: right;\n",
       "    }\n",
       "</style>\n",
       "<table border=\"1\" class=\"dataframe\">\n",
       "  <thead>\n",
       "    <tr style=\"text-align: right;\">\n",
       "      <th></th>\n",
       "      <th>Cluster Labels</th>\n",
       "      <th>D1</th>\n",
       "      <th>Ara</th>\n",
       "      <th>Oxxo</th>\n",
       "      <th>Exito</th>\n",
       "    </tr>\n",
       "  </thead>\n",
       "  <tbody>\n",
       "    <tr>\n",
       "      <th>0</th>\n",
       "      <td>0.0</td>\n",
       "      <td>25.0</td>\n",
       "      <td>8.0</td>\n",
       "      <td>12.0</td>\n",
       "      <td>37.0</td>\n",
       "    </tr>\n",
       "    <tr>\n",
       "      <th>1</th>\n",
       "      <td>1.0</td>\n",
       "      <td>11.0</td>\n",
       "      <td>3.0</td>\n",
       "      <td>12.0</td>\n",
       "      <td>11.0</td>\n",
       "    </tr>\n",
       "    <tr>\n",
       "      <th>2</th>\n",
       "      <td>2.0</td>\n",
       "      <td>20.0</td>\n",
       "      <td>10.0</td>\n",
       "      <td>20.0</td>\n",
       "      <td>15.0</td>\n",
       "    </tr>\n",
       "    <tr>\n",
       "      <th>3</th>\n",
       "      <td>3.0</td>\n",
       "      <td>2.0</td>\n",
       "      <td>14.0</td>\n",
       "      <td>22.0</td>\n",
       "      <td>46.0</td>\n",
       "    </tr>\n",
       "    <tr>\n",
       "      <th>4</th>\n",
       "      <td>4.0</td>\n",
       "      <td>24.0</td>\n",
       "      <td>5.0</td>\n",
       "      <td>6.0</td>\n",
       "      <td>9.0</td>\n",
       "    </tr>\n",
       "    <tr>\n",
       "      <th>5</th>\n",
       "      <td>5.0</td>\n",
       "      <td>24.0</td>\n",
       "      <td>16.0</td>\n",
       "      <td>8.0</td>\n",
       "      <td>38.0</td>\n",
       "    </tr>\n",
       "    <tr>\n",
       "      <th>6</th>\n",
       "      <td>6.0</td>\n",
       "      <td>29.0</td>\n",
       "      <td>12.0</td>\n",
       "      <td>16.0</td>\n",
       "      <td>22.0</td>\n",
       "    </tr>\n",
       "  </tbody>\n",
       "</table>\n",
       "</div>"
      ],
      "text/plain": [
       "   Cluster Labels    D1   Ara  Oxxo  Exito\n",
       "0             0.0  25.0   8.0  12.0   37.0\n",
       "1             1.0  11.0   3.0  12.0   11.0\n",
       "2             2.0  20.0  10.0  20.0   15.0\n",
       "3             3.0   2.0  14.0  22.0   46.0\n",
       "4             4.0  24.0   5.0   6.0    9.0\n",
       "5             5.0  24.0  16.0   8.0   38.0\n",
       "6             6.0  29.0  12.0  16.0   22.0"
      ]
     },
     "execution_count": 17,
     "metadata": {},
     "output_type": "execute_result"
    }
   ],
   "source": [
    "for i in range(0,kclusters):\n",
    "    df_filter=df_counts[df_counts['Cluster Labels']==i]\n",
    "    for j in range(0,5):\n",
    "        if j==0:\n",
    "            df_sum=df_sum.append({'Cluster Labels':i},ignore_index=True)\n",
    "        if j>0:\n",
    "            df_sum.iloc[i,j]=df_filter[col_names[j]].sum()\n",
    "df_sum"
   ]
  },
  {
   "cell_type": "markdown",
   "metadata": {},
   "source": [
    "Create a DataFrame with market share percentage by each network and each cluster"
   ]
  },
  {
   "cell_type": "code",
   "execution_count": 18,
   "metadata": {},
   "outputs": [],
   "source": [
    "df_market=pd.DataFrame(columns=col_names)\n",
    "for i in range(0,kclusters):\n",
    "    summ=df_sum['D1'][i]+df_sum['Ara'][i]+df_sum['Oxxo'][i]+df_sum['Exito'][i]\n",
    "    for j in range(0,5):\n",
    "        if j==0:\n",
    "            df_market=df_market.append({'Cluster Labels':i},ignore_index=True)\n",
    "        if j>0:\n",
    "            df_market.iloc[i,j]=round((df_sum[col_names[j]][i]/summ)*100,1)"
   ]
  },
  {
   "cell_type": "markdown",
   "metadata": {},
   "source": [
    "Compute the total market share percentage by each network"
   ]
  },
  {
   "cell_type": "code",
   "execution_count": 19,
   "metadata": {},
   "outputs": [
    {
     "name": "stdout",
     "output_type": "stream",
     "text": [
      "Total market share by D1: 28.3%\n",
      "Total market share by Ara: 14.3%\n",
      "Total market share by Oxxo: 20.1%\n",
      "Total market share by Exito: 37.3%\n"
     ]
    }
   ],
   "source": [
    "t_sum=df_sum.sum()[1:5].sum()\n",
    "ms_d1=round(df_sum['D1'].sum()/t_sum*100,1)\n",
    "ms_ara=round(df_sum['Ara'].sum()/t_sum*100,1)\n",
    "ms_oxxo=round(df_sum['Oxxo'].sum()/t_sum*100,1)\n",
    "ms_exito=round(df_sum['Exito'].sum()/t_sum*100,1)\n",
    "print('Total market share by D1: '+str(ms_d1)+'%')\n",
    "print('Total market share by Ara: '+str(ms_ara)+'%')\n",
    "print('Total market share by Oxxo: '+str(ms_oxxo)+'%')\n",
    "print('Total market share by Exito: '+str(ms_exito)+'%')"
   ]
  },
  {
   "cell_type": "markdown",
   "metadata": {},
   "source": [
    "Visualice the market share perchentage by each network in each cluster"
   ]
  },
  {
   "cell_type": "markdown",
   "metadata": {},
   "source": [
    "### Cluster 0"
   ]
  },
  {
   "cell_type": "code",
   "execution_count": 27,
   "metadata": {},
   "outputs": [
    {
     "data": {
      "image/png": "[encoded data removed]",
      "text/plain": [
       "<Figure size 432x288 with 1 Axes>"
      ]
     },
     "metadata": {
      "needs_background": "light"
     },
     "output_type": "display_data"
    }
   ],
   "source": [
    "#-*- coding: utf-8 -*-\n",
    "import matplotlib.pyplot as plt\n",
    "\n",
    "fig = plt.figure('Market share') # Figure\n",
    "ax = fig.add_subplot(111) # Axes\n",
    "\n",
    "cluster=0\n",
    "data=[df_market['D1'][cluster],df_market['Ara'][cluster],df_market['Oxxo'][cluster],df_market['Exito'][cluster]]\n",
    "xx=range(len(data))\n",
    "\n",
    "index=np.arange(4)\n",
    "labels=data\n",
    "for label, x, y in zip(labels,index,labels):\n",
    "    plt.annotate(\n",
    "        label,\n",
    "        xy=(x, y), xytext=(0,10),\n",
    "        textcoords='offset points', ha='center', va='bottom',fontsize=10)\n",
    "      \n",
    "ax.bar(xx, data, width=0.8, align='center',color=rainbow[cluster-1],label=df_market)\n",
    "ax.set_xticks(xx)\n",
    "ax.set_xticklabels(['D1','Ara','Oxxo','Exito'])\n",
    "plt.title('Cluster ' + str(cluster) +' - Market share (%)')\n",
    "plt.yticks([])\n",
    "ax.spines['right'].set_visible(False)\n",
    "ax.spines['top'].set_visible(False)\n",
    "ax.spines['left'].set_visible(False)\n",
    "plt.show()"
   ]
  },
  {
   "cell_type": "markdown",
   "metadata": {},
   "source": [
    "### Cluster 1"
   ]
  },
  {
   "cell_type": "code",
   "execution_count": 21,
   "metadata": {},
   "outputs": [
    {
     "data": {
      "image/png": "[encoded data removed]",
      "text/plain": [
       "<Figure size 432x288 with 1 Axes>"
      ]
     },
     "metadata": {
      "needs_background": "light"
     },
     "output_type": "display_data"
    }
   ],
   "source": [
    "#-*- coding: utf-8 -*-\n",
    "import matplotlib.pyplot as plt\n",
    "\n",
    "fig = plt.figure('Market share') # Figure\n",
    "ax = fig.add_subplot(111) # Axes\n",
    "\n",
    "cluster=1\n",
    "data=[df_market['D1'][cluster],df_market['Ara'][cluster],df_market['Oxxo'][cluster],df_market['Exito'][cluster]]\n",
    "xx=range(len(data))\n",
    "\n",
    "index=np.arange(4)\n",
    "labels=data\n",
    "for label, x, y in zip(labels,index,labels):\n",
    "    plt.annotate(\n",
    "        label,\n",
    "        xy=(x, y), xytext=(0,10),\n",
    "        textcoords='offset points', ha='center', va='bottom',fontsize=10)\n",
    "      \n",
    "ax.bar(xx, data, width=0.8, align='center',color=rainbow[cluster-1],label=df_market)\n",
    "ax.set_xticks(xx)\n",
    "ax.set_xticklabels(['D1','Ara','Oxxo','Exito'])\n",
    "plt.title('Cluster ' + str(cluster) +' - Market share (%)')\n",
    "plt.yticks([])\n",
    "ax.spines['right'].set_visible(False)\n",
    "ax.spines['top'].set_visible(False)\n",
    "ax.spines['left'].set_visible(False)\n",
    "plt.show()"
   ]
  },
  {
   "cell_type": "markdown",
   "metadata": {},
   "source": [
    "### Cluster 2"
   ]
  },
  {
   "cell_type": "code",
   "execution_count": 22,
   "metadata": {},
   "outputs": [
    {
     "data": {
      "image/png": "[encoded data removed]",
      "text/plain": [
       "<Figure size 432x288 with 1 Axes>"
      ]
     },
     "metadata": {
      "needs_background": "light"
     },
     "output_type": "display_data"
    }
   ],
   "source": [
    "#-*- coding: utf-8 -*-\n",
    "import matplotlib.pyplot as plt\n",
    "\n",
    "fig = plt.figure('Market share') # Figure\n",
    "ax = fig.add_subplot(111) # Axes\n",
    "\n",
    "cluster=2\n",
    "data=[df_market['D1'][cluster],df_market['Ara'][cluster],df_market['Oxxo'][cluster],df_market['Exito'][cluster]]\n",
    "xx=range(len(data))\n",
    "\n",
    "index=np.arange(4)\n",
    "labels=data\n",
    "for label, x, y in zip(labels,index,labels):\n",
    "    plt.annotate(\n",
    "        label,\n",
    "        xy=(x, y), xytext=(0,10),\n",
    "        textcoords='offset points', ha='center', va='bottom',fontsize=10)\n",
    "      \n",
    "ax.bar(xx, data, width=0.8, align='center',color=rainbow[cluster-1],label=df_market)\n",
    "ax.set_xticks(xx)\n",
    "ax.set_xticklabels(['D1','Ara','Oxxo','Exito'])\n",
    "plt.title('Cluster ' + str(cluster) +' - Market share (%)')\n",
    "plt.yticks([])\n",
    "ax.spines['right'].set_visible(False)\n",
    "ax.spines['top'].set_visible(False)\n",
    "ax.spines['left'].set_visible(False)\n",
    "plt.show()"
   ]
  },
  {
   "cell_type": "markdown",
   "metadata": {},
   "source": [
    "### Cluster 3"
   ]
  },
  {
   "cell_type": "code",
   "execution_count": 23,
   "metadata": {},
   "outputs": [
    {
     "data": {
      "image/png": "[encoded data removed]",
      "text/plain": [
       "<Figure size 432x288 with 1 Axes>"
      ]
     },
     "metadata": {
      "needs_background": "light"
     },
     "output_type": "display_data"
    }
   ],
   "source": [
    "#-*- coding: utf-8 -*-\n",
    "import matplotlib.pyplot as plt\n",
    "\n",
    "fig = plt.figure('Market share') # Figure\n",
    "ax = fig.add_subplot(111) # Axes\n",
    "\n",
    "cluster=3\n",
    "data=[df_market['D1'][cluster],df_market['Ara'][cluster],df_market['Oxxo'][cluster],df_market['Exito'][cluster]]\n",
    "xx=range(len(data))\n",
    "\n",
    "index=np.arange(4)\n",
    "labels=data\n",
    "for label, x, y in zip(labels,index,labels):\n",
    "    plt.annotate(\n",
    "        label,\n",
    "        xy=(x, y), xytext=(0,10),\n",
    "        textcoords='offset points', ha='center', va='bottom',fontsize=10)\n",
    "      \n",
    "ax.bar(xx, data, width=0.8, align='center',color=rainbow[cluster-1],label=df_market)\n",
    "ax.set_xticks(xx)\n",
    "ax.set_xticklabels(['D1','Ara','Oxxo','Exito'])\n",
    "plt.title('Cluster ' + str(cluster) +' - Market share (%)')\n",
    "plt.yticks([])\n",
    "ax.spines['right'].set_visible(False)\n",
    "ax.spines['top'].set_visible(False)\n",
    "ax.spines['left'].set_visible(False)\n",
    "plt.show()"
   ]
  },
  {
   "cell_type": "markdown",
   "metadata": {},
   "source": [
    "### Cluster 4"
   ]
  },
  {
   "cell_type": "code",
   "execution_count": 24,
   "metadata": {},
   "outputs": [
    {
     "data": {
      "image/png": "[encoded data removed]",
      "text/plain": [
       "<Figure size 432x288 with 1 Axes>"
      ]
     },
     "metadata": {
      "needs_background": "light"
     },
     "output_type": "display_data"
    }
   ],
   "source": [
    "#-*- coding: utf-8 -*-\n",
    "import matplotlib.pyplot as plt\n",
    "\n",
    "fig = plt.figure('Market share') # Figure\n",
    "ax = fig.add_subplot(111) # Axes\n",
    "\n",
    "cluster=4\n",
    "data=[df_market['D1'][cluster],df_market['Ara'][cluster],df_market['Oxxo'][cluster],df_market['Exito'][cluster]]\n",
    "xx=range(len(data))\n",
    "\n",
    "index=np.arange(4)\n",
    "labels=data\n",
    "for label, x, y in zip(labels,index,labels):\n",
    "    plt.annotate(\n",
    "        label,\n",
    "        xy=(x, y), xytext=(0,10),\n",
    "        textcoords='offset points', ha='center', va='bottom',fontsize=10)\n",
    "      \n",
    "ax.bar(xx, data, width=0.8, align='center',color=rainbow[cluster-1],label=df_market)\n",
    "ax.set_xticks(xx)\n",
    "ax.set_xticklabels(['D1','Ara','Oxxo','Exito'])\n",
    "plt.title('Cluster ' + str(cluster) +' - Market share (%)')\n",
    "plt.yticks([])\n",
    "ax.spines['right'].set_visible(False)\n",
    "ax.spines['top'].set_visible(False)\n",
    "ax.spines['left'].set_visible(False)\n",
    "plt.show()"
   ]
  },
  {
   "cell_type": "markdown",
   "metadata": {},
   "source": [
    "### Cluster 5"
   ]
  },
  {
   "cell_type": "code",
   "execution_count": 25,
   "metadata": {},
   "outputs": [
    {
     "data": {
      "image/png": "[encoded data removed]",
      "text/plain": [
       "<Figure size 432x288 with 1 Axes>"
      ]
     },
     "metadata": {
      "needs_background": "light"
     },
     "output_type": "display_data"
    }
   ],
   "source": [
    "#-*- coding: utf-8 -*-\n",
    "import matplotlib.pyplot as plt\n",
    "\n",
    "fig = plt.figure('Market share') # Figure\n",
    "ax = fig.add_subplot(111) # Axes\n",
    "\n",
    "cluster=5\n",
    "data=[df_market['D1'][cluster],df_market['Ara'][cluster],df_market['Oxxo'][cluster],df_market['Exito'][cluster]]\n",
    "xx=range(len(data))\n",
    "\n",
    "index=np.arange(4)\n",
    "labels=data\n",
    "for label, x, y in zip(labels,index,labels):\n",
    "    plt.annotate(\n",
    "        label,\n",
    "        xy=(x, y), xytext=(0,10),\n",
    "        textcoords='offset points', ha='center', va='bottom',fontsize=10)\n",
    "      \n",
    "ax.bar(xx, data, width=0.8, align='center',color=rainbow[cluster-1],label=df_market)\n",
    "ax.set_xticks(xx)\n",
    "ax.set_xticklabels(['D1','Ara','Oxxo','Exito'])\n",
    "plt.title('Cluster ' + str(cluster) +' - Market share (%)')\n",
    "plt.yticks([])\n",
    "ax.spines['right'].set_visible(False)\n",
    "ax.spines['top'].set_visible(False)\n",
    "ax.spines['left'].set_visible(False)\n",
    "plt.show()"
   ]
  },
  {
   "cell_type": "markdown",
   "metadata": {},
   "source": [
    "### Cluster 6"
   ]
  },
  {
   "cell_type": "code",
   "execution_count": 26,
   "metadata": {},
   "outputs": [
    {
     "data": {
      "image/png": "[encoded data removed]",
      "text/plain": [
       "<Figure size 432x288 with 1 Axes>"
      ]
     },
     "metadata": {
      "needs_background": "light"
     },
     "output_type": "display_data"
    }
   ],
   "source": [
    "#-*- coding: utf-8 -*-\n",
    "import matplotlib.pyplot as plt\n",
    "\n",
    "fig = plt.figure('Market share') # Figure\n",
    "ax = fig.add_subplot(111) # Axes\n",
    "\n",
    "cluster=6\n",
    "data=[df_market['D1'][cluster],df_market['Ara'][cluster],df_market['Oxxo'][cluster],df_market['Exito'][cluster]]\n",
    "xx=range(len(data))\n",
    "\n",
    "index=np.arange(4)\n",
    "labels=data\n",
    "for label, x, y in zip(labels,index,labels):\n",
    "    plt.annotate(\n",
    "        label,\n",
    "        xy=(x, y), xytext=(0,10),\n",
    "        textcoords='offset points', ha='center', va='bottom',fontsize=10)\n",
    "      \n",
    "ax.bar(xx, data, width=0.8, align='center',color=rainbow[cluster-1],label=df_market)\n",
    "ax.set_xticks(xx)\n",
    "ax.set_xticklabels(['D1','Ara','Oxxo','Exito'])\n",
    "plt.title('Cluster ' + str(cluster) +' - Market share (%)')\n",
    "plt.yticks([])\n",
    "ax.spines['right'].set_visible(False)\n",
    "ax.spines['top'].set_visible(False)\n",
    "ax.spines['left'].set_visible(False)\n",
    "plt.show()"
   ]
  },
  {
   "cell_type": "markdown",
   "metadata": {},
   "source": [
    "# Thanks for watching!!"
   ]
  },
  {
   "cell_type": "markdown",
   "metadata": {},
   "source": [
    "If the maps are not displayed correctly, you can go to the following link:\n",
    "https://dataplatform.cloud.ibm.com/analytics/notebooks/v2/a229c018-4788-4e31-9663-fbb8b2f327e1/view?access_token=9dadd9ca8d084859da4b41e79ba2fdb1784aa668e09fe07b26528e5c130882ed"
   ]
  }
 ],
 "metadata": {
  "kernelspec": {
   "display_name": "Python 3.6",
   "language": "python",
   "name": "python3"
  },
  "language_info": {
   "codemirror_mode": {
    "name": "ipython",
    "version": 3
   },
   "file_extension": ".py",
   "mimetype": "text/x-python",
   "name": "python",
   "nbconvert_exporter": "python",
   "pygments_lexer": "ipython3",
   "version": "3.6.8"
  }
 },
 "nbformat": 4,
 "nbformat_minor": 1
}
